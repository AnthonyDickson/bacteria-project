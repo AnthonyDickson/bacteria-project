{
 "cells": [
  {
   "cell_type": "markdown",
   "metadata": {},
   "source": [
    "# Data\n",
    "The data consists of fluorescence spectra readings from six different species of bacteria: Bacillus cereus, Listeria monocytogenes, Staphylococcus aureus, Salmonella enterica, Escherichia coli, and Pseudomonas aureginosa.\n",
    "For each bacteria sample there are spectra readings for about 1043 different wavelengths of light and the three growth phases: lag, log, and stat (stationary). This means that for each bacteria sample there are 3 * 1304 data points. Furthermore, the spectra readings are generated with two different integration times (time spent gathering the spectra reading), 16ms and 32ms.\n",
    "\n",
    "There are some large numbers in the dataset (some spectra readings exceed 25,000). This poses a problem when training SVM models that use the linear kernel as the linear kernel is very slow for large values. For example, a SVM using the rbf kernel would take less than ~0.1 second to train while a SVM using could take up to ~16 minutes to train. To mitigate this effect I scaled the data into the interval [0.0, 1.0]. However, scaling is done 'globally' as opposed to scaling each feature individually as is done in the sklearn scaling libraries. This retains the relative scale between features. It is important to keep the relative scaling between features because technically all the features in this dataset are readings of the same feature. Ignoring relative scale and scaling on a per-feature basis worsens classification peformance.\n",
    "\n",
    "The labels (or targets) are set to be the 'gram-ness' of the given bacteria sample, i.e. whether or not the given bacteria would test positive in the [gram stain test](https://en.wikipedia.org/wiki/Gram_stain). These groupings for the bacteria in the dataset are:\n",
    "\n",
    "- Gram positive\n",
    "    - Bc - Bacillus cereus \n",
    "    - lm - Listeria monocytogenes\n",
    "    - sa - Staphylococcus aureus \n",
    "\n",
    "- Gram negative\n",
    "    - se - Salmonella enterica\n",
    "    - ec - Escherichia coli\n",
    "    - pa - Pseudomonas aureginosa\n",
    "    \n",
    "Setting the labels to the gram-ness seems to alleviate the class imbalance problem encountered when classifying bacteria species.\n",
    "\n",
    "# Models\n",
    "The classifiers used in the following experiments are:\n",
    "1. Naive Bayes\n",
    "2. SVM\n",
    "3. RandomForest with Decision Stumps\n",
    "4. RandomForest with Decision Trees\n",
    "5. AdaBoost with Decision Stumps\n",
    "6. AdaBoost with Decision Trees.\n",
    "\n",
    "Additionally, the parameters 'C', 'gamma', and 'kernel' are optimised for the SVM model via grid search. The score given for the SVM model is the model initialised with the best parameters found in this parameter search.\n",
    "The decision stumps/trees used with AdaBoost and RandomForest are tested with a max tree depth of 1 (for decision stumps) and 3. RandomForest models are tested with 512 classifiers and AdaBoost with 256 classifiers.\n",
    "\n",
    "# Methodology\n",
    "In the code below an experiment refers to a sequence of tests which evaluate the performance of various models. An experiment is run for the entire dataset and again for each subset of the dataset, where a subset is simply the data from a single growth phase. In each experiment I run the same series of tests twice, once for each integration time. \n",
    "\n",
    "Each model is evaluated using both the original, untransformed data and a PCA transformed version of the data. Models are evaluated using repeated stratified k-fold cross validation where the data is split into three folds (n_splits) 20 times (n_repeats). The scores given for both the untransformed data and the PCA data consist of the mean score over all the 60 indvidual folds +/- two standard deviations.\n",
    "\n",
    "The random state is set to the same value across different modules (e.g. train_test_split, RandomForest initialisation) to ensure results can be reproduced consistently.\n",
    "\n",
    "At the end of the notebook I have added brief summaries of the results with a table with the top three configurations (in terms of both data and models) and a bar chart comparing classification scores across each configuration. The black lines on the bars in the bar chart indicate the +/- two standard deviation ranges.\n",
    "\n",
    "The code for these experiments can be found under the file `experiment.py`.\n",
    "\n",
    "# Brief Summary of Results\n",
    "Overall, none of models are able to produce good results, with the best classification accuracy being ~57%. \n",
    "Since, in the case of using all growth phase data, there are about 12 samples from the majority class out of a total of 39 samples, the best score a classifier could get by consistently guessing the majority class would be around 30%. So while 57% is quite a bit better, it is still too unreliable for practical use. "
   ]
  },
  {
   "cell_type": "code",
   "execution_count": 1,
   "metadata": {},
   "outputs": [],
   "source": [
    "from experiments import CNNExperiment as GramnessExperiment"
   ]
  },
  {
   "cell_type": "code",
   "execution_count": null,
   "metadata": {
    "scrolled": false
   },
   "outputs": [
    {
     "name": "stdout",
     "output_type": "stream",
     "text": [
      "################################################################################\n",
      "Running tests for 16ms integration time.\n",
      "################################################################################\n",
      "**************************\n",
      "Running Naive Bayes tests.\n",
      "**************************\n",
      "Accuracy: 0.41 (+/- 0.18)\n",
      "PCA Accuracy: 0.29 (+/- 0.17)\n",
      "Elapsed time: 00m 01s\n",
      "******************\n",
      "Running SVM tests.\n",
      "******************\n",
      "Fitting 60 folds for each of 220 candidates, totalling 13200 fits\n"
     ]
    },
    {
     "name": "stderr",
     "output_type": "stream",
     "text": [
      "[Parallel(n_jobs=-1)]: Using backend SequentialBackend with 1 concurrent workers.\n",
      "[Parallel(n_jobs=-1)]: Done 13200 out of 13200 | elapsed:  1.4min finished\n"
     ]
    },
    {
     "name": "stdout",
     "output_type": "stream",
     "text": [
      "Best grid search score was 0.48 with the following settings: {'C': 1, 'gamma': 1, 'kernel': 'linear'}\n",
      "Accuracy: 0.50 (+/- 0.19)\n",
      "PCA Accuracy: 0.48 (+/- 0.19)\n",
      "Elapsed time: 01m 24s\n",
      "**************************************************************************\n",
      "Running RandomForest tests using 512 Decision Trees with a max depth of 1.\n",
      "**************************************************************************\n",
      "Accuracy: 0.47 (+/- 0.10)\n",
      "PCA Accuracy: 0.46 (+/- 0.09)\n",
      "Elapsed time: 02m 51s\n",
      "**************************************************************************\n",
      "Running RandomForest tests using 512 Decision Trees with a max depth of 3.\n",
      "**************************************************************************\n"
     ]
    }
   ],
   "source": [
    "experiment_lag = GramnessExperiment('lag')\n",
    "experiment_lag.run()"
   ]
  },
  {
   "cell_type": "code",
   "execution_count": null,
   "metadata": {
    "scrolled": false
   },
   "outputs": [],
   "source": [
    "experiment_log = GramnessExperiment('log')\n",
    "experiment_log.run()"
   ]
  },
  {
   "cell_type": "code",
   "execution_count": null,
   "metadata": {
    "scrolled": false
   },
   "outputs": [],
   "source": [
    "experiment_stat = GramnessExperiment('stat')\n",
    "experiment_stat.run()"
   ]
  },
  {
   "cell_type": "code",
   "execution_count": null,
   "metadata": {
    "scrolled": false
   },
   "outputs": [],
   "source": [
    "experiment_all = GramnessExperiment('all')\n",
    "experiment_all.run()"
   ]
  },
  {
   "cell_type": "code",
   "execution_count": null,
   "metadata": {},
   "outputs": [],
   "source": [
    "print('Results for Tests Run on Lag Growth Phase Data')\n",
    "\n",
    "print('Top Three Configurations:\\n', experiment_lag.top_three())\n",
    "experiment_lag.plot_results();"
   ]
  },
  {
   "cell_type": "code",
   "execution_count": null,
   "metadata": {},
   "outputs": [],
   "source": [
    "print('Results for Tests Run on Log Growth Phase Data')\n",
    "\n",
    "print('Top Three Configurations:\\n', experiment_log.top_three())\n",
    "experiment_log.plot_results();"
   ]
  },
  {
   "cell_type": "code",
   "execution_count": null,
   "metadata": {},
   "outputs": [],
   "source": [
    "print('Results for Tests Run on Stationary Growth Phase Data')\n",
    "\n",
    "print('Top Three Configurations:\\n', experiment_stat.top_three())\n",
    "experiment_stat.plot_results();"
   ]
  },
  {
   "cell_type": "code",
   "execution_count": null,
   "metadata": {},
   "outputs": [],
   "source": [
    "print('Results for Tests Run on All Growth Phase Data')\n",
    "\n",
    "print('Top Three Configurations:\\n', experiment_all.top_three())\n",
    "experiment_all.plot_results();"
   ]
  }
 ],
 "metadata": {
  "kernelspec": {
   "display_name": "Python 3",
   "language": "python",
   "name": "python3"
  },
  "language_info": {
   "codemirror_mode": {
    "name": "ipython",
    "version": 3
   },
   "file_extension": ".py",
   "mimetype": "text/x-python",
   "name": "python",
   "nbconvert_exporter": "python",
   "pygments_lexer": "ipython3",
   "version": "3.6.8"
  }
 },
 "nbformat": 4,
 "nbformat_minor": 2
}
