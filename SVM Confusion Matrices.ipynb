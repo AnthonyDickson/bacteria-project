{
 "cells": [
  {
   "cell_type": "markdown",
   "metadata": {},
   "source": [
    "Generate confusion matrices for the best performing models for each classification problem (species classification and gram-ness classification). The models to use are the best from the notebooks `Classification-Species.ipynb` and `Classification-Gramness.ipynb`."
   ]
  },
  {
   "cell_type": "code",
   "execution_count": 1,
   "metadata": {},
   "outputs": [],
   "source": [
    "import numpy as np\n",
    "\n",
    "from sklearn.metrics import confusion_matrix, classification_report\n",
    "from sklearn.model_selection import cross_val_predict, StratifiedKFold, RepeatedStratifiedKFold\n",
    "from sklearn.svm import SVC\n",
    "\n",
    "import matplotlib.pyplot as plt\n",
    "import seaborn as sns\n",
    "\n",
    "from experiments.sklearn import Experiment, GramnessExperiment\n",
    "\n",
    "%matplotlib inline"
   ]
  },
  {
   "cell_type": "code",
   "execution_count": 2,
   "metadata": {},
   "outputs": [],
   "source": [
    "def generate_metrics(clf, X, y, target_type):\n",
    "    target_type = target_type.lower()\n",
    "    \n",
    "    assert target_type in ['species', 'gramness']\n",
    "    \n",
    "    cv = StratifiedKFold(n_splits=3, random_state=42)\n",
    "    y_pred = cross_val_predict(clf, X, y, cv=cv)\n",
    "\n",
    "    print(classification_report(y, y_pred))\n",
    "\n",
    "    labels = np.unique(y)\n",
    "    cm = confusion_matrix(y, y_pred, labels)    \n",
    "\n",
    "    ax = sns.heatmap(cm, annot=True, cmap='Blues')\n",
    "    ax.set(xlabel='Predicted labels', \n",
    "           ylabel='True labels',\n",
    "           title='Confusion Matrix of SVM Classification of %s' % target_type.capitalize())\n",
    "    ax.xaxis.set_ticklabels(labels)\n",
    "    ax.xaxis.tick_top()\n",
    "    ax.xaxis.set_label_position('top') \n",
    "    ax.yaxis.set_ticklabels(labels)\n",
    "\n",
    "    plt.tight_layout()    \n",
    "    plt.savefig('data/svm_%s_confusion_matrix' % target_type);"
   ]
  },
  {
   "cell_type": "code",
   "execution_count": 3,
   "metadata": {},
   "outputs": [
    {
     "name": "stdout",
     "output_type": "stream",
     "text": [
      "******************\n",
      "Running SVM tests.\n",
      "******************\n",
      "Fitting 60 folds for each of 220 candidates, totalling 13200 fits\n"
     ]
    },
    {
     "name": "stderr",
     "output_type": "stream",
     "text": [
      "[Parallel(n_jobs=-1)]: Using backend LokyBackend with 4 concurrent workers.\n",
      "[Parallel(n_jobs=-1)]: Done 786 tasks      | elapsed:    1.7s\n",
      "[Parallel(n_jobs=-1)]: Done 10986 tasks      | elapsed:    8.4s\n",
      "[Parallel(n_jobs=-1)]: Done 13200 out of 13200 | elapsed:    9.9s finished\n"
     ]
    },
    {
     "name": "stdout",
     "output_type": "stream",
     "text": [
      "Best grid search score was 0.59 with the following settings: {'C': 1, 'gamma': 0.01, 'kernel': 'rbf'}\n",
      "Accuracy: 0.59 (+/- 0.11)\n",
      "PCA Accuracy: 0.59 (+/- 0.11)\n",
      "Elapsed time: 00m 10s\n"
     ]
    }
   ],
   "source": [
    "e = Experiment('all')\n",
    "e.svm_test('32ms');"
   ]
  },
  {
   "cell_type": "code",
   "execution_count": 4,
   "metadata": {},
   "outputs": [
    {
     "name": "stdout",
     "output_type": "stream",
     "text": [
      "              precision    recall  f1-score   support\n",
      "\n",
      "          bc       0.80      1.00      0.89        12\n",
      "          ec       0.00      0.00      0.00         5\n",
      "          lm       0.00      0.00      0.00         3\n",
      "          pa       0.33      0.67      0.44         6\n",
      "          sa       0.89      1.00      0.94         8\n",
      "          se       0.00      0.00      0.00         5\n",
      "\n",
      "   micro avg       0.62      0.62      0.62        39\n",
      "   macro avg       0.34      0.44      0.38        39\n",
      "weighted avg       0.48      0.62      0.53        39\n",
      "\n"
     ]
    },
    {
     "name": "stderr",
     "output_type": "stream",
     "text": [
      "/home/anthony/miniconda3/lib/python3.6/site-packages/sklearn/metrics/classification.py:1143: UndefinedMetricWarning: Precision and F-score are ill-defined and being set to 0.0 in labels with no predicted samples.\n",
      "  'precision', 'predicted', average, warn_for)\n",
      "/home/anthony/miniconda3/lib/python3.6/site-packages/sklearn/metrics/classification.py:1143: UndefinedMetricWarning: Precision and F-score are ill-defined and being set to 0.0 in labels with no predicted samples.\n",
      "  'precision', 'predicted', average, warn_for)\n",
      "/home/anthony/miniconda3/lib/python3.6/site-packages/sklearn/metrics/classification.py:1143: UndefinedMetricWarning: Precision and F-score are ill-defined and being set to 0.0 in labels with no predicted samples.\n",
      "  'precision', 'predicted', average, warn_for)\n"
     ]
    },
    {
     "data": {
      "image/png": "[encoded data removed]",
      "text/plain": [
       "<Figure size 432x288 with 2 Axes>"
      ]
     },
     "metadata": {
      "needs_background": "light"
     },
     "output_type": "display_data"
    }
   ],
   "source": [
    "X = e.X['32ms']\n",
    "y = e.y['32ms']\n",
    "\n",
    "clf = SVC(C=1, gamma=0.01, kernel='rbf')\n",
    "\n",
    "generate_metrics(clf, X, y, 'species')"
   ]
  },
  {
   "cell_type": "code",
   "execution_count": 5,
   "metadata": {},
   "outputs": [
    {
     "name": "stdout",
     "output_type": "stream",
     "text": [
      "******************\n",
      "Running SVM tests.\n",
      "******************\n",
      "Fitting 60 folds for each of 220 candidates, totalling 13200 fits\n"
     ]
    },
    {
     "name": "stderr",
     "output_type": "stream",
     "text": [
      "[Parallel(n_jobs=-1)]: Using backend LokyBackend with 4 concurrent workers.\n",
      "[Parallel(n_jobs=-1)]: Done 7044 tasks      | elapsed:    5.9s\n",
      "[Parallel(n_jobs=-1)]: Done 13200 out of 13200 | elapsed:   10.7s finished\n"
     ]
    },
    {
     "name": "stdout",
     "output_type": "stream",
     "text": [
      "Best grid search score was 0.98 with the following settings: {'C': 0.01, 'gamma': 1, 'kernel': 'linear'}\n",
      "Accuracy: 0.98 (+/- 0.07)\n",
      "PCA Accuracy: 0.98 (+/- 0.07)\n",
      "Elapsed time: 00m 11s\n"
     ]
    }
   ],
   "source": [
    "ge = GramnessExperiment('log')\n",
    "ge.svm_test('16ms');"
   ]
  },
  {
   "cell_type": "code",
   "execution_count": 6,
   "metadata": {},
   "outputs": [
    {
     "name": "stdout",
     "output_type": "stream",
     "text": [
      "              precision    recall  f1-score   support\n",
      "\n",
      "    negative       1.00      0.94      0.97        18\n",
      "    positive       0.96      1.00      0.98        23\n",
      "\n",
      "   micro avg       0.98      0.98      0.98        41\n",
      "   macro avg       0.98      0.97      0.98        41\n",
      "weighted avg       0.98      0.98      0.98        41\n",
      "\n"
     ]
    },
    {
     "data": {
      "image/png": "[encoded data removed]",
      "text/plain": [
       "<Figure size 432x288 with 2 Axes>"
      ]
     },
     "metadata": {
      "needs_background": "light"
     },
     "output_type": "display_data"
    }
   ],
   "source": [
    "X = ge.X['16ms']\n",
    "y = ge.y['16ms']\n",
    "\n",
    "clf = SVC(C=0.01, gamma=1, kernel='linear')\n",
    "\n",
    "generate_metrics(clf, X, y, 'gramness')"
   ]
  }
 ],
 "metadata": {
  "kernelspec": {
   "display_name": "Python 3",
   "language": "python",
   "name": "python3"
  },
  "language_info": {
   "codemirror_mode": {
    "name": "ipython",
    "version": 3
   },
   "file_extension": ".py",
   "mimetype": "text/x-python",
   "name": "python",
   "nbconvert_exporter": "python",
   "pygments_lexer": "ipython3",
   "version": "3.6.8"
  }
 },
 "nbformat": 4,
 "nbformat_minor": 2
}
